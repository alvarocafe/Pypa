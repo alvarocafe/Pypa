{
 "cells": [
  {
   "cell_type": "markdown",
   "metadata": {},
   "source": [
    "# Projeto CENAD - Abastecimento de água"
   ]
  },
  {
   "cell_type": "markdown",
   "metadata": {},
   "source": [
    "Para problemas de otimização, uma busca-se minimizar uma função objetivo $f(x)$,\n",
    "\\begin{equation}\n",
    "  \\boldsymbol{f}^{\\boldsymbol{T}} \\cdot \\boldsymbol{x}\n",
    "\\end{equation}\n",
    "sujeito a\n",
    "\\begin{equation}\n",
    "\\boldsymbol{A} \\boldsymbol{x} \\leq \\boldsymbol{b},\\  \\forall i : x_i \\geq 0\n",
    "\\end{equation}\n",
    "sendo que $\\boldsymbol{x} = [x_1, x_2, ..., x_n]$ são as variáveis do problema, $\\boldsymbol{f} = [c_1, c_2, ..., c_n]$ são os coeficientes da função objetivo, $\\boldsymbol{A}$ é uma matriz $m \\times n$ e $\\boldsymbol{b} = [b_1, b_2, ..., b_m]$ com $b_j \\geq 0$.\n",
    "\n",
    "Para determinar o problema, é necessário definir os coeficientes da função objetivo ($\\boldsymbol{f}$) as matrizes de igualdade ($\\boldsymbol{A_{eq}}$), desigualdade ($\\boldsymbol{A}$), os vetores de igualdade ($\\boldsymbol{b_{eq}}$) e desigualdade ($\\boldsymbol{b}$). Uma vez determinados, o método Simplex será utilizado para encontrar os coeficientes da função objetivo $\\boldsymbol{f}(\\boldsymbol{x})$.\n",
    "\n",
    "No caso do abastecimento, em específico, as matrizes de igualdade é dada pela demanda, as matrizes de desigualdade, pela oferta. A função objetivo descreve a relação município/manancial e a distância $\\boldsymbol{x}$ será minimizada.\n",
    "\n",
    "\n",
    "Para determinar o problema, é necessário definir os coeficientes da função objetivo ($f$) as matrizes de igualdade ($A_{eq}$), desigualdade ($A$), os vetores de igualdade ($b_{eq}$) e desigualdade ($b$)."
   ]
  },
  {
   "cell_type": "code",
   "execution_count": 1,
   "metadata": {},
   "outputs": [
    {
     "name": "stderr",
     "output_type": "stream",
     "text": [
      "Loading required package: slam\n",
      "Using the GLPK callable library version 4.65\n"
     ]
    }
   ],
   "source": [
    "# Inclua as bibliotecas para ler Excel e Programação Linear\n",
    "library(Rglpk)\n",
    "library(readxl)\n",
    "library(Matrix)\n",
    "library(optimbase)\n",
    "library(tibble)"
   ]
  },
  {
   "cell_type": "code",
   "execution_count": 2,
   "metadata": {},
   "outputs": [
    {
     "name": "stderr",
     "output_type": "stream",
     "text": [
      "Warning message in read.table(file = file, header = header, sep = sep, quote = quote, :\n",
      "“incomplete final line found by readTableHeader on '../dados/exemplo_distancias.txt'”Warning message in read.table(file = file, header = header, sep = sep, quote = quote, :\n",
      "“incomplete final line found by readTableHeader on '../dados/exemplo_oferta.txt'”Warning message in read.table(file = file, header = header, sep = sep, quote = quote, :\n",
      "“incomplete final line found by readTableHeader on '../dados/exemplo_demanda.txt'”"
     ]
    }
   ],
   "source": [
    "distancias <- read.delim(\"../dados/exemplo_distancias.txt\", header=FALSE)\n",
    "oferta <- read.delim(\"../dados/exemplo_oferta.txt\", header=FALSE)\n",
    "demanda <- read.delim(\"../dados/exemplo_demanda.txt\", header=FALSE)"
   ]
  },
  {
   "cell_type": "code",
   "execution_count": 3,
   "metadata": {},
   "outputs": [],
   "source": [
    "# Precisamos alocar as matrizes com os tamanhos da oferta e demanda\n",
    "n_ofer <- nrow(oferta)\n",
    "n_dema <- nrow(demanda)"
   ]
  },
  {
   "cell_type": "code",
   "execution_count": 5,
   "metadata": {},
   "outputs": [
    {
     "data": {
      "text/html": [
       "<table>\n",
       "<caption>A data.frame: 5 × 3</caption>\n",
       "<thead>\n",
       "\t<tr><th scope=col>V1</th><th scope=col>V2</th><th scope=col>V3</th></tr>\n",
       "\t<tr><th scope=col>&lt;int&gt;</th><th scope=col>&lt;int&gt;</th><th scope=col>&lt;int&gt;</th></tr>\n",
       "</thead>\n",
       "<tbody>\n",
       "\t<tr><td>1</td><td>10</td><td>2</td></tr>\n",
       "\t<tr><td>1</td><td>10</td><td>2</td></tr>\n",
       "\t<tr><td>1</td><td>10</td><td>2</td></tr>\n",
       "\t<tr><td>1</td><td>10</td><td>2</td></tr>\n",
       "\t<tr><td>1</td><td>10</td><td>2</td></tr>\n",
       "</tbody>\n",
       "</table>\n"
      ],
      "text/latex": [
       "A data.frame: 5 × 3\n",
       "\\begin{tabular}{r|lll}\n",
       " V1 & V2 & V3\\\\\n",
       " <int> & <int> & <int>\\\\\n",
       "\\hline\n",
       "\t 1 & 10 & 2\\\\\n",
       "\t 1 & 10 & 2\\\\\n",
       "\t 1 & 10 & 2\\\\\n",
       "\t 1 & 10 & 2\\\\\n",
       "\t 1 & 10 & 2\\\\\n",
       "\\end{tabular}\n"
      ],
      "text/markdown": [
       "\n",
       "A data.frame: 5 × 3\n",
       "\n",
       "| V1 &lt;int&gt; | V2 &lt;int&gt; | V3 &lt;int&gt; |\n",
       "|---|---|---|\n",
       "| 1 | 10 | 2 |\n",
       "| 1 | 10 | 2 |\n",
       "| 1 | 10 | 2 |\n",
       "| 1 | 10 | 2 |\n",
       "| 1 | 10 | 2 |\n",
       "\n"
      ],
      "text/plain": [
       "  V1 V2 V3\n",
       "1 1  10 2 \n",
       "2 1  10 2 \n",
       "3 1  10 2 \n",
       "4 1  10 2 \n",
       "5 1  10 2 "
      ]
     },
     "metadata": {},
     "output_type": "display_data"
    }
   ],
   "source": [
    "distancias"
   ]
  },
  {
   "cell_type": "markdown",
   "metadata": {},
   "source": [
    "Agora vamos construir as matrizes do problema. A primeira matriz será a da função $f(x)$, que consiste nos coeficientes da função linear $f x$, $f = [c_1 c_2 ... c_n]$ e $x = [x_1 x_2 ... x_n]$"
   ]
  },
  {
   "cell_type": "code",
   "execution_count": 6,
   "metadata": {},
   "outputs": [],
   "source": [
    "# A função f é uma matriz de uma linha e n_oferta * n_demanda colunas\n",
    "funcao_f <- matrix(nrow = 1 , ncol =  n_ofer*n_dema)\n",
    "for (i in 1:n_dema){\n",
    "  for (j in 1:n_ofer){\n",
    "    funcao_f[(j+(i-1)*n_ofer)] <- distancias[i,j]\n",
    "      #*demanda[i,1]\n",
    "  }\n",
    "}\n",
    "funcao_f[is.na(funcao_f)] <- 0 # quando nan (Not A Number), substituir por zero\n",
    "obj <- funcao_f # Definimos a função objetivo como f"
   ]
  },
  {
   "cell_type": "code",
   "execution_count": 7,
   "metadata": {},
   "outputs": [
    {
     "data": {
      "text/html": [
       "<table>\n",
       "<caption>A matrix: 1 × 15 of type dbl</caption>\n",
       "<tbody>\n",
       "\t<tr><td>1</td><td>10</td><td>2</td><td>1</td><td>10</td><td>2</td><td>1</td><td>10</td><td>2</td><td>1</td><td>10</td><td>2</td><td>1</td><td>10</td><td>2</td></tr>\n",
       "</tbody>\n",
       "</table>\n"
      ],
      "text/latex": [
       "A matrix: 1 × 15 of type dbl\n",
       "\\begin{tabular}{lllllllllllllll}\n",
       "\t 1 & 10 & 2 & 1 & 10 & 2 & 1 & 10 & 2 & 1 & 10 & 2 & 1 & 10 & 2\\\\\n",
       "\\end{tabular}\n"
      ],
      "text/markdown": [
       "\n",
       "A matrix: 1 × 15 of type dbl\n",
       "\n",
       "| 1 | 10 | 2 | 1 | 10 | 2 | 1 | 10 | 2 | 1 | 10 | 2 | 1 | 10 | 2 |\n",
       "\n"
      ],
      "text/plain": [
       "     [,1] [,2] [,3] [,4] [,5] [,6] [,7] [,8] [,9] [,10] [,11] [,12] [,13] [,14]\n",
       "[1,] 1    10   2    1    10   2    1    10   2    1     10    2     1     10   \n",
       "     [,15]\n",
       "[1,] 2    "
      ]
     },
     "metadata": {},
     "output_type": "display_data"
    }
   ],
   "source": [
    "funcao_f"
   ]
  },
  {
   "cell_type": "markdown",
   "metadata": {},
   "source": [
    "Agora vamos montar a matriz $\\boldsymbol{A}$ que relaciona a desigualdade $\\boldsymbol{A} \\boldsymbol{x} \\lt \\boldsymbol{b}$, em que $b$ é o vetor que indica a oferta dos mananciais."
   ]
  },
  {
   "cell_type": "code",
   "execution_count": 8,
   "metadata": {},
   "outputs": [],
   "source": [
    "funcao_A <- matrix(nrow = n_ofer, ncol = n_dema*n_ofer)\n",
    "for (i in 1:n_ofer){\n",
    "  for (j in 1:n_dema){        \n",
    "      # Cada linha recebe os valores da demanda\n",
    "    funcao_A[i,i+(j-1)*n_ofer] <- 1\n",
    "      #as.matrix(demanda[j,1]) \n",
    "  }\n",
    "}\n",
    "funcao_A[is.na(funcao_A)] <- 0"
   ]
  },
  {
   "cell_type": "code",
   "execution_count": 9,
   "metadata": {},
   "outputs": [
    {
     "data": {
      "text/html": [
       "<table>\n",
       "<caption>A matrix: 3 × 15 of type dbl</caption>\n",
       "<tbody>\n",
       "\t<tr><td>1</td><td>0</td><td>0</td><td>1</td><td>0</td><td>0</td><td>1</td><td>0</td><td>0</td><td>1</td><td>0</td><td>0</td><td>1</td><td>0</td><td>0</td></tr>\n",
       "\t<tr><td>0</td><td>1</td><td>0</td><td>0</td><td>1</td><td>0</td><td>0</td><td>1</td><td>0</td><td>0</td><td>1</td><td>0</td><td>0</td><td>1</td><td>0</td></tr>\n",
       "\t<tr><td>0</td><td>0</td><td>1</td><td>0</td><td>0</td><td>1</td><td>0</td><td>0</td><td>1</td><td>0</td><td>0</td><td>1</td><td>0</td><td>0</td><td>1</td></tr>\n",
       "</tbody>\n",
       "</table>\n"
      ],
      "text/latex": [
       "A matrix: 3 × 15 of type dbl\n",
       "\\begin{tabular}{lllllllllllllll}\n",
       "\t 1 & 0 & 0 & 1 & 0 & 0 & 1 & 0 & 0 & 1 & 0 & 0 & 1 & 0 & 0\\\\\n",
       "\t 0 & 1 & 0 & 0 & 1 & 0 & 0 & 1 & 0 & 0 & 1 & 0 & 0 & 1 & 0\\\\\n",
       "\t 0 & 0 & 1 & 0 & 0 & 1 & 0 & 0 & 1 & 0 & 0 & 1 & 0 & 0 & 1\\\\\n",
       "\\end{tabular}\n"
      ],
      "text/markdown": [
       "\n",
       "A matrix: 3 × 15 of type dbl\n",
       "\n",
       "| 1 | 0 | 0 | 1 | 0 | 0 | 1 | 0 | 0 | 1 | 0 | 0 | 1 | 0 | 0 |\n",
       "| 0 | 1 | 0 | 0 | 1 | 0 | 0 | 1 | 0 | 0 | 1 | 0 | 0 | 1 | 0 |\n",
       "| 0 | 0 | 1 | 0 | 0 | 1 | 0 | 0 | 1 | 0 | 0 | 1 | 0 | 0 | 1 |\n",
       "\n"
      ],
      "text/plain": [
       "     [,1] [,2] [,3] [,4] [,5] [,6] [,7] [,8] [,9] [,10] [,11] [,12] [,13] [,14]\n",
       "[1,] 1    0    0    1    0    0    1    0    0    1     0     0     1     0    \n",
       "[2,] 0    1    0    0    1    0    0    1    0    0     1     0     0     1    \n",
       "[3,] 0    0    1    0    0    1    0    0    1    0     0     1     0     0    \n",
       "     [,15]\n",
       "[1,] 0    \n",
       "[2,] 0    \n",
       "[3,] 1    "
      ]
     },
     "metadata": {},
     "output_type": "display_data"
    }
   ],
   "source": [
    "funcao_A"
   ]
  },
  {
   "cell_type": "markdown",
   "metadata": {},
   "source": [
    "As restrições do problema são descritas por valores que devem ser iguais a demanda, isto é, os municípios devem receber a totalidade de sua demanda de água (de um único manancial), e nunca menos que sua demanda. E valores que podem ser iguais ou menores, aqueles da oferta dos mananciais, que podem oferecer uma quantidade de água determinada e não mais, mas não existe necessidade de utilizar toda a oferta de cada manancial. Dessa forma, serão construídas duas matrizes $\\boldsymbol{A}$, que relaciona a oferta de cada manancial para cada município, e a matriz $\\boldsymbol{A_{eq}}$, que relaciona a oferta e a demanda de cada município."
   ]
  },
  {
   "cell_type": "code",
   "execution_count": 10,
   "metadata": {},
   "outputs": [],
   "source": [
    "funcao_Aeq <- matrix(nrow = n_dema, ncol = n_dema*n_ofer)\n",
    "for (i in 1:n_dema){\n",
    "    for (j in 1:n_ofer){\n",
    "        # A função Aeq será sempre um ou zero\n",
    "        funcao_Aeq[i,j+(i-1)*n_ofer] <- 1 \n",
    "    }\n",
    "}\n",
    "funcao_Aeq[is.na(funcao_Aeq)] <- 0\n",
    "#depois disso, juntar com A\n",
    "funcao_A_Aeq <- rbind(funcao_A, funcao_Aeq) # Junta-se as duas matriz de igualdade e desigualdade\n",
    "mat <- funcao_A_Aeq"
   ]
  },
  {
   "cell_type": "code",
   "execution_count": 11,
   "metadata": {},
   "outputs": [
    {
     "data": {
      "text/html": [
       "<table>\n",
       "<caption>A matrix: 5 × 15 of type dbl</caption>\n",
       "<tbody>\n",
       "\t<tr><td>1</td><td>1</td><td>1</td><td>0</td><td>0</td><td>0</td><td>0</td><td>0</td><td>0</td><td>0</td><td>0</td><td>0</td><td>0</td><td>0</td><td>0</td></tr>\n",
       "\t<tr><td>0</td><td>0</td><td>0</td><td>1</td><td>1</td><td>1</td><td>0</td><td>0</td><td>0</td><td>0</td><td>0</td><td>0</td><td>0</td><td>0</td><td>0</td></tr>\n",
       "\t<tr><td>0</td><td>0</td><td>0</td><td>0</td><td>0</td><td>0</td><td>1</td><td>1</td><td>1</td><td>0</td><td>0</td><td>0</td><td>0</td><td>0</td><td>0</td></tr>\n",
       "\t<tr><td>0</td><td>0</td><td>0</td><td>0</td><td>0</td><td>0</td><td>0</td><td>0</td><td>0</td><td>1</td><td>1</td><td>1</td><td>0</td><td>0</td><td>0</td></tr>\n",
       "\t<tr><td>0</td><td>0</td><td>0</td><td>0</td><td>0</td><td>0</td><td>0</td><td>0</td><td>0</td><td>0</td><td>0</td><td>0</td><td>1</td><td>1</td><td>1</td></tr>\n",
       "</tbody>\n",
       "</table>\n"
      ],
      "text/latex": [
       "A matrix: 5 × 15 of type dbl\n",
       "\\begin{tabular}{lllllllllllllll}\n",
       "\t 1 & 1 & 1 & 0 & 0 & 0 & 0 & 0 & 0 & 0 & 0 & 0 & 0 & 0 & 0\\\\\n",
       "\t 0 & 0 & 0 & 1 & 1 & 1 & 0 & 0 & 0 & 0 & 0 & 0 & 0 & 0 & 0\\\\\n",
       "\t 0 & 0 & 0 & 0 & 0 & 0 & 1 & 1 & 1 & 0 & 0 & 0 & 0 & 0 & 0\\\\\n",
       "\t 0 & 0 & 0 & 0 & 0 & 0 & 0 & 0 & 0 & 1 & 1 & 1 & 0 & 0 & 0\\\\\n",
       "\t 0 & 0 & 0 & 0 & 0 & 0 & 0 & 0 & 0 & 0 & 0 & 0 & 1 & 1 & 1\\\\\n",
       "\\end{tabular}\n"
      ],
      "text/markdown": [
       "\n",
       "A matrix: 5 × 15 of type dbl\n",
       "\n",
       "| 1 | 1 | 1 | 0 | 0 | 0 | 0 | 0 | 0 | 0 | 0 | 0 | 0 | 0 | 0 |\n",
       "| 0 | 0 | 0 | 1 | 1 | 1 | 0 | 0 | 0 | 0 | 0 | 0 | 0 | 0 | 0 |\n",
       "| 0 | 0 | 0 | 0 | 0 | 0 | 1 | 1 | 1 | 0 | 0 | 0 | 0 | 0 | 0 |\n",
       "| 0 | 0 | 0 | 0 | 0 | 0 | 0 | 0 | 0 | 1 | 1 | 1 | 0 | 0 | 0 |\n",
       "| 0 | 0 | 0 | 0 | 0 | 0 | 0 | 0 | 0 | 0 | 0 | 0 | 1 | 1 | 1 |\n",
       "\n"
      ],
      "text/plain": [
       "     [,1] [,2] [,3] [,4] [,5] [,6] [,7] [,8] [,9] [,10] [,11] [,12] [,13] [,14]\n",
       "[1,] 1    1    1    0    0    0    0    0    0    0     0     0     0     0    \n",
       "[2,] 0    0    0    1    1    1    0    0    0    0     0     0     0     0    \n",
       "[3,] 0    0    0    0    0    0    1    1    1    0     0     0     0     0    \n",
       "[4,] 0    0    0    0    0    0    0    0    0    1     1     1     0     0    \n",
       "[5,] 0    0    0    0    0    0    0    0    0    0     0     0     1     1    \n",
       "     [,15]\n",
       "[1,] 0    \n",
       "[2,] 0    \n",
       "[3,] 0    \n",
       "[4,] 0    \n",
       "[5,] 1    "
      ]
     },
     "metadata": {},
     "output_type": "display_data"
    }
   ],
   "source": [
    "funcao_Aeq"
   ]
  },
  {
   "cell_type": "markdown",
   "metadata": {},
   "source": [
    "Agora vamos montar o vetor $\\boldsymbol{b}$, que recebe a oferta correspondente as municípios descritos por $\\boldsymbol{A}$:"
   ]
  },
  {
   "cell_type": "code",
   "execution_count": 12,
   "metadata": {},
   "outputs": [],
   "source": [
    "funcao_b <- matrix(nrow = 36, ncol = 1)\n",
    "funcao_b <- oferta\n",
    "funcao_b_final <- t(funcao_b)\n",
    "funcao_b_final[is.na(funcao_b_final)] <- 0"
   ]
  },
  {
   "cell_type": "code",
   "execution_count": 13,
   "metadata": {},
   "outputs": [
    {
     "data": {
      "text/html": [
       "<table>\n",
       "<caption>A data.frame: 3 × 1</caption>\n",
       "<thead>\n",
       "\t<tr><th scope=col>V1</th></tr>\n",
       "\t<tr><th scope=col>&lt;int&gt;</th></tr>\n",
       "</thead>\n",
       "<tbody>\n",
       "\t<tr><td> 5</td></tr>\n",
       "\t<tr><td>10</td></tr>\n",
       "\t<tr><td>10</td></tr>\n",
       "</tbody>\n",
       "</table>\n"
      ],
      "text/latex": [
       "A data.frame: 3 × 1\n",
       "\\begin{tabular}{r|l}\n",
       " V1\\\\\n",
       " <int>\\\\\n",
       "\\hline\n",
       "\t  5\\\\\n",
       "\t 10\\\\\n",
       "\t 10\\\\\n",
       "\\end{tabular}\n"
      ],
      "text/markdown": [
       "\n",
       "A data.frame: 3 × 1\n",
       "\n",
       "| V1 &lt;int&gt; |\n",
       "|---|\n",
       "|  5 |\n",
       "| 10 |\n",
       "| 10 |\n",
       "\n"
      ],
      "text/plain": [
       "  V1\n",
       "1  5\n",
       "2 10\n",
       "3 10"
      ]
     },
     "metadata": {},
     "output_type": "display_data"
    }
   ],
   "source": [
    "funcao_b"
   ]
  },
  {
   "cell_type": "markdown",
   "metadata": {},
   "source": [
    "O vetor $\\boldsymbol{b_{eq}}$ é sempre igual a um ou zero e é do tamanho da demanda. Ele define quanto cada município deve receber de água de cada manancial para garantir que receba não menos que sua demanda."
   ]
  },
  {
   "cell_type": "code",
   "execution_count": 14,
   "metadata": {},
   "outputs": [],
   "source": [
    "funcao_beq <- matrix(nrow = n_dema, ncol = 1)\n",
    "for (i in 1:n_dema){\n",
    "    funcao_beq[i,1] <- as.matrix(demanda[i,1])\n",
    "    #1\n",
    "}\n",
    "funcao_beq_final <- t(funcao_beq)\n",
    "funcao_beq_final[is.na(funcao_beq_final)] <- 0\n",
    "\n",
    "#depois disso, juntar com beq\n",
    "funcao_b_beq <- cbind(funcao_b_final, funcao_beq_final)\n",
    "rhs <- funcao_b_beq"
   ]
  },
  {
   "cell_type": "code",
   "execution_count": 15,
   "metadata": {},
   "outputs": [
    {
     "data": {
      "text/html": [
       "<table>\n",
       "<caption>A matrix: 5 × 1 of type int</caption>\n",
       "<tbody>\n",
       "\t<tr><td>1</td></tr>\n",
       "\t<tr><td>1</td></tr>\n",
       "\t<tr><td>1</td></tr>\n",
       "\t<tr><td>2</td></tr>\n",
       "\t<tr><td>3</td></tr>\n",
       "</tbody>\n",
       "</table>\n"
      ],
      "text/latex": [
       "A matrix: 5 × 1 of type int\n",
       "\\begin{tabular}{l}\n",
       "\t 1\\\\\n",
       "\t 1\\\\\n",
       "\t 1\\\\\n",
       "\t 2\\\\\n",
       "\t 3\\\\\n",
       "\\end{tabular}\n"
      ],
      "text/markdown": [
       "\n",
       "A matrix: 5 × 1 of type int\n",
       "\n",
       "| 1 |\n",
       "| 1 |\n",
       "| 1 |\n",
       "| 2 |\n",
       "| 3 |\n",
       "\n"
      ],
      "text/plain": [
       "     [,1]\n",
       "[1,] 1   \n",
       "[2,] 1   \n",
       "[3,] 1   \n",
       "[4,] 2   \n",
       "[5,] 3   "
      ]
     },
     "metadata": {},
     "output_type": "display_data"
    }
   ],
   "source": [
    "funcao_beq"
   ]
  },
  {
   "cell_type": "code",
   "execution_count": 16,
   "metadata": {},
   "outputs": [],
   "source": [
    "# Lower bound, limite inferior de zero e upper bound, limite superior igual a um\n",
    "funcao_lb <- matrix(nrow = 1, ncol = n_dema*n_ofer) #matriz em linha só de zeros \n",
    "for (i in 1:n_ofer*n_dema){\n",
    "    funcao_lb[i] <- 0\n",
    "}                                        #funcao_lb_final <- t(funcao_lb)\n",
    "funcao_lb[is.na(funcao_lb)] <- 0\n",
    "\n",
    "funcao_ub <- matrix(nrow = 1, ncol = n_dema*n_ofer) #matriz em linha com numeros quaisquer\n",
    "for (i in 1:n_ofer*n_dema){\n",
    "    funcao_ub[i] <- 1\n",
    "}\n",
    "#depois disso, transpor\n",
    "#funcao_ub_final <- t(funcao_ub)\n",
    "funcao_ub[is.na(funcao_ub)] <- 1\n",
    "bounds <- list(lower = funcao_lb, upper = funcao_ub )"
   ]
  },
  {
   "cell_type": "markdown",
   "metadata": {},
   "source": [
    "Enfim, é necessrio definir quais valores da matriz $\\boldsymbol{A}$ são de igualdade e desigualdade. Os primeiros 36 valores, ou número de oferta valores, são de desigualdade, os 4599, ou número de demanda valores são de igualdade."
   ]
  },
  {
   "cell_type": "code",
   "execution_count": 17,
   "metadata": {},
   "outputs": [],
   "source": [
    "dir <- c(rep('<=', n_ofer),rep('==', n_dema))"
   ]
  },
  {
   "cell_type": "markdown",
   "metadata": {},
   "source": [
    "O resultado da otimização é salvo em um objeto chamado $solution$. Agora é possível verificar a eficiência em comparação com a distribuição realizada no período estudado."
   ]
  },
  {
   "cell_type": "code",
   "execution_count": 18,
   "metadata": {},
   "outputs": [
    {
     "name": "stderr",
     "output_type": "stream",
     "text": [
      "Warning message in any(x[[1L]]):\n",
      "“coercing argument of type 'double' to logical”Warning message in any(x[[1L]]):\n",
      "“coercing argument of type 'double' to logical”"
     ]
    }
   ],
   "source": [
    "library(Rglpk)\n",
    "solution <- Rglpk_solve_LP(obj, mat, dir, rhs, bounds , max = FALSE)"
   ]
  },
  {
   "cell_type": "code",
   "execution_count": 19,
   "metadata": {},
   "outputs": [
    {
     "data": {
      "text/html": [
       "<dl>\n",
       "\t<dt>$optimum</dt>\n",
       "\t\t<dd>11</dd>\n",
       "\t<dt>$solution</dt>\n",
       "\t\t<dd><ol class=list-inline>\n",
       "\t<li>1</li>\n",
       "\t<li>0</li>\n",
       "\t<li>0</li>\n",
       "\t<li>1</li>\n",
       "\t<li>0</li>\n",
       "\t<li>0</li>\n",
       "\t<li>1</li>\n",
       "\t<li>0</li>\n",
       "\t<li>0</li>\n",
       "\t<li>2</li>\n",
       "\t<li>0</li>\n",
       "\t<li>0</li>\n",
       "\t<li>0</li>\n",
       "\t<li>0</li>\n",
       "\t<li>3</li>\n",
       "</ol>\n",
       "</dd>\n",
       "\t<dt>$status</dt>\n",
       "\t\t<dd>0</dd>\n",
       "\t<dt>$solution_dual</dt>\n",
       "\t\t<dd><ol class=list-inline>\n",
       "\t<li>0</li>\n",
       "\t<li>8</li>\n",
       "\t<li>0</li>\n",
       "\t<li>0</li>\n",
       "\t<li>8</li>\n",
       "\t<li>0</li>\n",
       "\t<li>0</li>\n",
       "\t<li>8</li>\n",
       "\t<li>0</li>\n",
       "\t<li>0</li>\n",
       "\t<li>8</li>\n",
       "\t<li>0</li>\n",
       "\t<li>0</li>\n",
       "\t<li>8</li>\n",
       "\t<li>0</li>\n",
       "</ol>\n",
       "</dd>\n",
       "\t<dt>$auxiliary</dt>\n",
       "\t\t<dd><dl>\n",
       "\t<dt>$primal</dt>\n",
       "\t\t<dd><ol class=list-inline>\n",
       "\t<li>5</li>\n",
       "\t<li>0</li>\n",
       "\t<li>3</li>\n",
       "\t<li>1</li>\n",
       "\t<li>1</li>\n",
       "\t<li>1</li>\n",
       "\t<li>2</li>\n",
       "\t<li>3</li>\n",
       "</ol>\n",
       "</dd>\n",
       "\t<dt>$dual</dt>\n",
       "\t\t<dd><ol class=list-inline>\n",
       "\t<li>-1</li>\n",
       "\t<li>0</li>\n",
       "\t<li>0</li>\n",
       "\t<li>2</li>\n",
       "\t<li>2</li>\n",
       "\t<li>2</li>\n",
       "\t<li>2</li>\n",
       "\t<li>2</li>\n",
       "</ol>\n",
       "</dd>\n",
       "</dl>\n",
       "</dd>\n",
       "\t<dt>$sensitivity_report</dt>\n",
       "\t\t<dd>NA</dd>\n",
       "</dl>\n"
      ],
      "text/latex": [
       "\\begin{description}\n",
       "\\item[\\$optimum] 11\n",
       "\\item[\\$solution] \\begin{enumerate*}\n",
       "\\item 1\n",
       "\\item 0\n",
       "\\item 0\n",
       "\\item 1\n",
       "\\item 0\n",
       "\\item 0\n",
       "\\item 1\n",
       "\\item 0\n",
       "\\item 0\n",
       "\\item 2\n",
       "\\item 0\n",
       "\\item 0\n",
       "\\item 0\n",
       "\\item 0\n",
       "\\item 3\n",
       "\\end{enumerate*}\n",
       "\n",
       "\\item[\\$status] 0\n",
       "\\item[\\$solution\\_dual] \\begin{enumerate*}\n",
       "\\item 0\n",
       "\\item 8\n",
       "\\item 0\n",
       "\\item 0\n",
       "\\item 8\n",
       "\\item 0\n",
       "\\item 0\n",
       "\\item 8\n",
       "\\item 0\n",
       "\\item 0\n",
       "\\item 8\n",
       "\\item 0\n",
       "\\item 0\n",
       "\\item 8\n",
       "\\item 0\n",
       "\\end{enumerate*}\n",
       "\n",
       "\\item[\\$auxiliary] \\begin{description}\n",
       "\\item[\\$primal] \\begin{enumerate*}\n",
       "\\item 5\n",
       "\\item 0\n",
       "\\item 3\n",
       "\\item 1\n",
       "\\item 1\n",
       "\\item 1\n",
       "\\item 2\n",
       "\\item 3\n",
       "\\end{enumerate*}\n",
       "\n",
       "\\item[\\$dual] \\begin{enumerate*}\n",
       "\\item -1\n",
       "\\item 0\n",
       "\\item 0\n",
       "\\item 2\n",
       "\\item 2\n",
       "\\item 2\n",
       "\\item 2\n",
       "\\item 2\n",
       "\\end{enumerate*}\n",
       "\n",
       "\\end{description}\n",
       "\n",
       "\\item[\\$sensitivity\\_report] NA\n",
       "\\end{description}\n"
      ],
      "text/markdown": [
       "$optimum\n",
       ":   11\n",
       "$solution\n",
       ":   1. 1\n",
       "2. 0\n",
       "3. 0\n",
       "4. 1\n",
       "5. 0\n",
       "6. 0\n",
       "7. 1\n",
       "8. 0\n",
       "9. 0\n",
       "10. 2\n",
       "11. 0\n",
       "12. 0\n",
       "13. 0\n",
       "14. 0\n",
       "15. 3\n",
       "\n",
       "\n",
       "\n",
       "$status\n",
       ":   0\n",
       "$solution_dual\n",
       ":   1. 0\n",
       "2. 8\n",
       "3. 0\n",
       "4. 0\n",
       "5. 8\n",
       "6. 0\n",
       "7. 0\n",
       "8. 8\n",
       "9. 0\n",
       "10. 0\n",
       "11. 8\n",
       "12. 0\n",
       "13. 0\n",
       "14. 8\n",
       "15. 0\n",
       "\n",
       "\n",
       "\n",
       "$auxiliary\n",
       ":   $primal\n",
       ":   1. 5\n",
       "2. 0\n",
       "3. 3\n",
       "4. 1\n",
       "5. 1\n",
       "6. 1\n",
       "7. 2\n",
       "8. 3\n",
       "\n",
       "\n",
       "\n",
       "$dual\n",
       ":   1. -1\n",
       "2. 0\n",
       "3. 0\n",
       "4. 2\n",
       "5. 2\n",
       "6. 2\n",
       "7. 2\n",
       "8. 2\n",
       "\n",
       "\n",
       "\n",
       "\n",
       "\n",
       "\n",
       "$sensitivity_report\n",
       ":   NA\n",
       "\n",
       "\n"
      ],
      "text/plain": [
       "$optimum\n",
       "[1] 11\n",
       "\n",
       "$solution\n",
       " [1] 1 0 0 1 0 0 1 0 0 2 0 0 0 0 3\n",
       "\n",
       "$status\n",
       "[1] 0\n",
       "\n",
       "$solution_dual\n",
       " [1] 0 8 0 0 8 0 0 8 0 0 8 0 0 8 0\n",
       "\n",
       "$auxiliary\n",
       "$auxiliary$primal\n",
       "[1] 5 0 3 1 1 1 2 3\n",
       "\n",
       "$auxiliary$dual\n",
       "[1] -1  0  0  2  2  2  2  2\n",
       "\n",
       "\n",
       "$sensitivity_report\n",
       "[1] NA\n"
      ]
     },
     "metadata": {},
     "output_type": "display_data"
    }
   ],
   "source": [
    "solution"
   ]
  },
  {
   "cell_type": "code",
   "execution_count": 20,
   "metadata": {},
   "outputs": [
    {
     "name": "stdout",
     "output_type": "stream",
     "text": [
      "[1] \"destino: 1, origem: 1, carros: 1\"\n",
      "[1] \"destino: 2, origem: 1, carros: 1\"\n",
      "[1] \"destino: 3, origem: 1, carros: 1\"\n",
      "[1] \"destino: 4, origem: 1, carros: 2\"\n",
      "[1] \"destino: 5, origem: 3, carros: 3\"\n"
     ]
    }
   ],
   "source": [
    "val <- solution[['solution']]\n",
    "iter=1\n",
    "for (i in 1:n_dema){\n",
    "    for (j in 1:n_ofer){\n",
    "        if (val[iter] > 0)\n",
    "        print(paste0('destino: ',i,', origem: ',j,', carros: ',val[iter]))\n",
    "        iter=iter+1\n",
    "    }\n",
    "}\n"
   ]
  },
  {
   "cell_type": "code",
   "execution_count": null,
   "metadata": {},
   "outputs": [],
   "source": []
  }
 ],
 "metadata": {
  "kernelspec": {
   "display_name": "R",
   "language": "R",
   "name": "ir"
  },
  "language_info": {
   "codemirror_mode": "r",
   "file_extension": ".r",
   "mimetype": "text/x-r-source",
   "name": "R",
   "pygments_lexer": "r",
   "version": "3.6.0"
  }
 },
 "nbformat": 4,
 "nbformat_minor": 2
}
