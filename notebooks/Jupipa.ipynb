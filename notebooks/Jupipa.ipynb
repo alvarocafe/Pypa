{
 "cells": [
  {
   "cell_type": "markdown",
   "metadata": {},
   "source": [
    "# Jupipa - Modelo de otimização de rotas de carros-pipa utilizando Julia\n",
    "\n"
   ]
  },
  {
   "cell_type": "markdown",
   "metadata": {},
   "source": [
    "### Resolvendo o modelo de programação linear utilizando o JuMP\n",
    "\n",
    "\n",
    "Para resolver um problema de programação linear tradicional para o problema de otimização de distribuição:\n",
    "\n",
    "$$\n",
    "\\begin{align}\n",
    "& \\text{minimizar} && c^T x \\\\\n",
    "& \\text{sujeito a} && A x \\leq b \\\\\n",
    "&                   && x \\succeq 0 \\\\\n",
    "&                   && x \\in \\mathbb{R}^n\n",
    "\\end{align}\n",
    "$$\n",
    "onde $c^T \\in \\mathbb{R}^n$ é a transformação linear que desejamos minimizar, ou custo, $A$ é uma matrix $n \\times n$ que define as restrições do problema. "
   ]
  },
  {
   "cell_type": "markdown",
   "metadata": {},
   "source": [
    "A variável de decisão para este problema é\n",
    "$$\n",
    "\\begin{align}\n",
    "\\forall (p,o,d) \\in R \\quad \\left(x_{(p,o,d)}= \\text{quantia do produto } p \\text{ que é transportado da origem } o \\text{ para o destino d} \\right)\n",
    "\\end{align}\n",
    "$$\n"
   ]
  },
  {
   "cell_type": "code",
   "execution_count": 2,
   "metadata": {},
   "outputs": [],
   "source": [
    "using JuMP, DelimitedFiles, GLPK"
   ]
  },
  {
   "cell_type": "code",
   "execution_count": 30,
   "metadata": {},
   "outputs": [],
   "source": [
    "oferta = readdlm(\"../dados/exemplo_oferta.txt\");\n",
    "demanda = readdlm(\"../dados/exemplo_demanda.txt\");\n",
    "Distancias = readdlm(\"../dados/exemplo_distancias.txt\");\n",
    "noferta = size(oferta,1)\n",
    "ndemanda = size(demanda,1);"
   ]
  },
  {
   "cell_type": "code",
   "execution_count": 31,
   "metadata": {},
   "outputs": [
    {
     "data": {
      "text/plain": [
       "5×3 Array{Float64,2}:\n",
       " 1.0  10.0  2.0\n",
       " 1.0  10.0  2.0\n",
       " 1.0  10.0  2.0\n",
       " 1.0  10.0  2.0\n",
       " 1.0  10.0  2.0"
      ]
     },
     "execution_count": 31,
     "metadata": {},
     "output_type": "execute_result"
    }
   ],
   "source": [
    "Distancias"
   ]
  },
  {
   "cell_type": "code",
   "execution_count": 32,
   "metadata": {
    "scrolled": true
   },
   "outputs": [],
   "source": [
    "#MODEL CONSTRUCTION\n",
    "LpModel = Model(with_optimizer(GLPK.Optimizer)) \n",
    "#VARIABLES\n",
    "@variable(LpModel, x[1:ndemanda*noferta] >= 0) # Models x >=0\n",
    "#OBJECTIVE\n",
    "@objective(LpModel, Min,sum(Distancias[i,j]*x[j+(i-1)*noferta] for i in 1:ndemanda for j in 1:noferta));"
   ]
  },
  {
   "cell_type": "code",
   "execution_count": 33,
   "metadata": {},
   "outputs": [],
   "source": [
    "#CONSTRAINTS\n",
    "#demanda e oferta\n",
    "for i in 1:ndemanda\n",
    "    @constraint(LpModel, sum(x[j+(i-1)*noferta] for j in 1:noferta) == demanda[i]) # the ith row \n",
    "end \n",
    "for j in 1:noferta\n",
    "    @constraint(LpModel, sum(x[j+(i-1)*noferta] for i in 1:ndemanda) <= oferta[j]) # the ith row \n",
    "end"
   ]
  },
  {
   "cell_type": "code",
   "execution_count": 8,
   "metadata": {},
   "outputs": [
    {
     "data": {
      "text/latex": [
       "$$ \\begin{alignat*}{1}\\min\\quad & x_{1} + 10 x_{2} + 2 x_{3} + x_{4} + 10 x_{5} + 2 x_{6} + x_{7} + 10 x_{8} + 2 x_{9} + x_{10} + 10 x_{11} + 2 x_{12} + x_{13} + 10 x_{14} + 2 x_{15}\\\\\n",
       "\\text{Subject to} \\quad & x_{1} \\geq 0.0\\\\\n",
       " & x_{2} \\geq 0.0\\\\\n",
       " & x_{3} \\geq 0.0\\\\\n",
       " & x_{4} \\geq 0.0\\\\\n",
       " & x_{5} \\geq 0.0\\\\\n",
       " & x_{6} \\geq 0.0\\\\\n",
       " & x_{7} \\geq 0.0\\\\\n",
       " & x_{8} \\geq 0.0\\\\\n",
       " & x_{9} \\geq 0.0\\\\\n",
       " & x_{10} \\geq 0.0\\\\\n",
       " & x_{11} \\geq 0.0\\\\\n",
       " & x_{12} \\geq 0.0\\\\\n",
       " & x_{13} \\geq 0.0\\\\\n",
       " & x_{14} \\geq 0.0\\\\\n",
       " & x_{15} \\geq 0.0\\\\\n",
       " & x_{1} + x_{2} + x_{3} = 1.0\\\\\n",
       " & x_{4} + x_{5} + x_{6} = 1.0\\\\\n",
       " & x_{7} + x_{8} + x_{9} = 1.0\\\\\n",
       " & x_{10} + x_{11} + x_{12} = 2.0\\\\\n",
       " & x_{13} + x_{14} + x_{15} = 3.0\\\\\n",
       " & x_{1} + x_{4} + x_{7} + x_{10} + x_{13} \\leq 5.0\\\\\n",
       " & x_{2} + x_{5} + x_{8} + x_{11} + x_{14} \\leq 10.0\\\\\n",
       " & x_{3} + x_{6} + x_{9} + x_{12} + x_{15} \\leq 10.0\\\\\n",
       "\\end{alignat*}\n",
       " $$"
      ],
      "text/plain": [
       "A JuMP Model\n",
       "Minimization problem with:\n",
       "Variables: 15\n",
       "Objective function type: GenericAffExpr{Float64,VariableRef}\n",
       "`VariableRef`-in-`MathOptInterface.GreaterThan{Float64}`: 15 constraints\n",
       "`GenericAffExpr{Float64,VariableRef}`-in-`MathOptInterface.EqualTo{Float64}`: 5 constraints\n",
       "`GenericAffExpr{Float64,VariableRef}`-in-`MathOptInterface.LessThan{Float64}`: 3 constraints\n",
       "Model mode: AUTOMATIC\n",
       "CachingOptimizer state: ATTACHED_OPTIMIZER\n",
       "Solver name: GLPK\n",
       "Names registered in the model: x"
      ]
     },
     "execution_count": 8,
     "metadata": {},
     "output_type": "execute_result"
    }
   ],
   "source": [
    "LpModel"
   ]
  },
  {
   "cell_type": "code",
   "execution_count": 34,
   "metadata": {},
   "outputs": [
    {
     "name": "stdout",
     "output_type": "stream",
     "text": [
      " 26.149933 seconds (26.68 M allocations: 1.310 GiB, 6.47% gc time)\n",
      "JuMP.has_values(LpModel) = true\n",
      "JuMP.termination_status(LpModel) = OPTIMAL::TerminationStatusCode = 1\n",
      "JuMP.primal_status(LpModel) == MOI.FEASIBLE_POINT = true\n"
     ]
    }
   ],
   "source": [
    "#SOLVE IT\n",
    "# finally optimize the model\n",
    "@time begin\n",
    "status = JuMP.optimize!(LpModel) # solves the model\n",
    "end\n",
    "# TEST SOLVER STATUSES\n",
    "@show JuMP.has_values(LpModel)\n",
    "@show JuMP.termination_status(LpModel)\n",
    "@show JuMP.primal_status(LpModel) == MOI.FEASIBLE_POINT;"
   ]
  },
  {
   "cell_type": "code",
   "execution_count": 35,
   "metadata": {},
   "outputs": [
    {
     "name": "stdout",
     "output_type": "stream",
     "text": [
      "Objective value: 11.0\n",
      "destino: 1, origem: 1, carros: 1.0\n",
      "destino: 2, origem: 1, carros: 1.0\n",
      "destino: 3, origem: 1, carros: 1.0\n",
      "destino: 4, origem: 1, carros: 2.0\n",
      "destino: 5, origem: 3, carros: 3.0\n"
     ]
    }
   ],
   "source": [
    "# DISPLAY THE RESULTS\n",
    "#-------------------------------- \n",
    "println(\"Objective value: \", JuMP.objective_value(LpModel)) # JuMP.objectivevalue(model_name) gives the optimum objective value\n",
    "#println(\"Optimal solution is x = \\n\", JuMP.value.(x)) # JuMP.resultvalue(decision_variable) will give the optimum value \n",
    "\n",
    "[println(\"destino: \",i,\", origem: \",j,\", carros: \",JuMP.value.(x)[j+(i-1)*noferta]) for i in 1:ndemanda for j in 1:noferta if JuMP.value.(x)[j+(i-1)*noferta] >0];"
   ]
  },
  {
   "cell_type": "code",
   "execution_count": null,
   "metadata": {},
   "outputs": [],
   "source": []
  }
 ],
 "metadata": {
  "@webio": {
   "lastCommId": null,
   "lastKernelId": null
  },
  "kernelspec": {
   "display_name": "Julia 1.1.0",
   "language": "julia",
   "name": "julia-1.1"
  },
  "language_info": {
   "file_extension": ".jl",
   "mimetype": "application/julia",
   "name": "julia",
   "version": "1.1.0"
  }
 },
 "nbformat": 4,
 "nbformat_minor": 2
}
