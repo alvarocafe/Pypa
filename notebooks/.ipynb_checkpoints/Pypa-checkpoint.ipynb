{
 "cells": [
  {
   "cell_type": "markdown",
   "metadata": {},
   "source": [
    "# Projeto CENAD - Abastecimento de água\n",
    "Este caderno é destinado para otimizar a distribuição de água, uso de mananciais e distância percorrida pelos caminhões pipa. Para tal, o algoritmo Simplex será utilizado. Busca-se maximizar ou minimizar \n",
    "\n",
    "\\begin{equation}\n",
    "    \\boldsymbol{f}^\\boldsymbol{T} \\cdot \\boldsymbol{x}\n",
    "\\end{equation}\n",
    "sujeito a\n",
    "\\begin{equation}\n",
    "\\boldsymbol{A} \\boldsymbol{x} \\leq \\boldsymbol{b},\\  \\forall i : x_i \\geq 0\n",
    "\\end{equation}\n",
    "sendo que $\\boldsymbol{x} = [x_1, x_2, ..., x_n]$ são as variáveis do problema, $\\boldsymbol{f} = [c_1, c_2, ..., c_n]$ são os coeficientes da função objetivo, $\\boldsymbol{A}$ é uma matriz $m \\times n$ e $\\boldsymbol{b} = [b_1, b_2, ..., b_m]$ com $b_j \\geq 0$.\n",
    "\n",
    "Para determinar o problema, é necessário definir os coeficientes da função objetivo ($f$) as matrizes de igualdade ($A_{eq}$), desigualdade ($A$), os vetores de igualdade ($b_{eq}$) e desigualdade ($b$),"
   ]
  },
  {
   "cell_type": "markdown",
   "metadata": {},
   "source": []
  },
  {
   "cell_type": "code",
   "execution_count": 1,
   "metadata": {
    "scrolled": true
   },
   "outputs": [],
   "source": [
    "import numpy as np\n",
    "import matplotlib.pyplot as plt\n",
    "from pulp import *"
   ]
  },
  {
   "cell_type": "code",
   "execution_count": 27,
   "metadata": {
    "scrolled": false
   },
   "outputs": [],
   "source": [
    "#Abertura de arquivos\n",
    "oferta      = open('oferta.txt','r')\n",
    "demanda     = open('demanda.txt','r')\n",
    "distancias  = open('distancias.txt','r')\n",
    "\n",
    "#Leitura de arquivos\n",
    "cOferta     = list(map(int,oferta.read().split()))\n",
    "cDemanda    = list(map(int,demanda.read().split()))\n",
    "cDistancias = list(map(int,distancias.read().split()))\n",
    "\n",
    "#Fechamento de arquivos\n",
    "oferta.close()\n",
    "distancias.close()\n",
    "demanda.close()"
   ]
  },
  {
   "cell_type": "code",
   "execution_count": null,
   "metadata": {},
   "outputs": [],
   "source": []
  },
  {
   "cell_type": "code",
   "execution_count": 29,
   "metadata": {},
   "outputs": [],
   "source": [
    "#vetores de demanda e oferta\n",
    "vDemanda   = [] #1,2,3... até o total da demanda\n",
    "vOferta    = [] #1,2,3... até o total da oferta\n",
    "vDistancia = [] #valores das distancias, array de 2 dimensoes\n",
    "\n",
    "#Lists (arrays) de indice\n",
    "for i,x in enumerate(cDemanda):\n",
    "    vDemanda.append(i+1)\n",
    "\n",
    "for i,x in enumerate(cOferta):\n",
    "    vOferta.append(i+1)"
   ]
  },
  {
   "cell_type": "code",
   "execution_count": null,
   "metadata": {},
   "outputs": [],
   "source": []
  },
  {
   "cell_type": "code",
   "execution_count": 30,
   "metadata": {},
   "outputs": [],
   "source": [
    "#Criação do problema\n",
    "prob = LpProblem(\"mainPulp\",LpMinimize)\n",
    "\n",
    "#Variaveis Auxiliares\n",
    "cont        = 0\n",
    "ldemanda    = []\n",
    "mDistancias = []"
   ]
  },
  {
   "cell_type": "code",
   "execution_count": 31,
   "metadata": {},
   "outputs": [],
   "source": [
    "#Assigment do array das distancias mDistancias\n",
    "for i in cDemanda:\n",
    "    for j in cOferta:\n",
    "        ldemanda.append(cDistancias[cont])\n",
    "        cont += 1\n",
    "    mDistancias.append(ldemanda)\n",
    "    ldemanda = []"
   ]
  },
  {
   "cell_type": "markdown",
   "metadata": {},
   "source": []
  },
  {
   "cell_type": "code",
   "execution_count": 32,
   "metadata": {},
   "outputs": [],
   "source": [
    "#matriz Oferta x Demanda no formato [Demanda,Oferta] [Linha,Coluna]\n",
    "matrizDO = LpVariable.dicts(\"matrizDO\",[(i,j) for i in vDemanda for j in vOferta], 0,None,LpInteger)"
   ]
  },
  {
   "cell_type": "markdown",
   "metadata": {},
   "source": []
  },
  {
   "cell_type": "code",
   "execution_count": 33,
   "metadata": {},
   "outputs": [],
   "source": [
    "#Função Objetivo\n",
    "prob += lpSum(mDistancias[i-1][j-1] * matrizDO[(i,j)] for i in vDemanda for j in vOferta)"
   ]
  },
  {
   "cell_type": "code",
   "execution_count": 34,
   "metadata": {},
   "outputs": [],
   "source": [
    "#Restrição de demanda - linhas\n",
    "for i in vDemanda:\n",
    "    prob += lpSum(matrizDO[(i,j)] for j in vOferta) == cDemanda[i-1]"
   ]
  },
  {
   "cell_type": "code",
   "execution_count": 35,
   "metadata": {},
   "outputs": [],
   "source": [
    "#Restrição de oferta - colunas\n",
    "for i in vOferta:\n",
    "    prob += lpSum(matrizDO[(j,i)] for j in vDemanda) <= cOferta[i-1]"
   ]
  },
  {
   "cell_type": "code",
   "execution_count": 37,
   "metadata": {
    "scrolled": true
   },
   "outputs": [
    {
     "name": "stdout",
     "output_type": "stream",
     "text": [
      "matrizDO_(1,_1)  =  1.0\n",
      "matrizDO_(2,_1)  =  1.0\n",
      "matrizDO_(3,_1)  =  2.0\n",
      "matrizDO_(4,_1)  =  1.0\n",
      "matrizDO_(5,_3)  =  5.0\n",
      "rBin_(1,_1)  =  1.0\n",
      "rBin_(2,_1)  =  1.0\n",
      "rBin_(3,_1)  =  1.0\n",
      "rBin_(4,_1)  =  1.0\n",
      "rBin_(5,_3)  =  1.0\n",
      "Total Profit:  10.0\n"
     ]
    }
   ],
   "source": [
    "#Comando para resolver o problema\n",
    "prob.solve()\n",
    "\n",
    "#Print das designacoes das rotas\n",
    "for v in prob.variables():\n",
    "    if v.varValue > 0:\n",
    "        print(v.name, \" = \", v.varValue)\n",
    "\n",
    "#Print do valor da Funcao Objetivo\n",
    "print(\"Total Profit: \",value(prob.objective))"
   ]
  },
  {
   "cell_type": "code",
   "execution_count": null,
   "metadata": {},
   "outputs": [],
   "source": []
  },
  {
   "cell_type": "code",
   "execution_count": null,
   "metadata": {},
   "outputs": [],
   "source": []
  },
  {
   "cell_type": "code",
   "execution_count": null,
   "metadata": {},
   "outputs": [],
   "source": []
  }
 ],
 "metadata": {
  "kernelspec": {
   "display_name": "Python 3",
   "language": "python",
   "name": "python3"
  },
  "language_info": {
   "codemirror_mode": {
    "name": "ipython",
    "version": 3
   },
   "file_extension": ".py",
   "mimetype": "text/x-python",
   "name": "python",
   "nbconvert_exporter": "python",
   "pygments_lexer": "ipython3",
   "version": "3.7.1"
  }
 },
 "nbformat": 4,
 "nbformat_minor": 2
}
