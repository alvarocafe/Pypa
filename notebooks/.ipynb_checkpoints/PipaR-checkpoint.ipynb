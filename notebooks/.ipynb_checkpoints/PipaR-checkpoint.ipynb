{
 "cells": [
  {
   "cell_type": "markdown",
   "metadata": {},
   "source": [
    "# Projeto CENAD - Abastecimento de água"
   ]
  },
  {
   "cell_type": "markdown",
   "metadata": {},
   "source": [
    "Para problemas de otimização, uma busca-se minimizar uma função objetivo $f(x)$,\n",
    "\\begin{equation}\n",
    "  \\boldsymbol{f}^{\\boldsymbol{T}} \\cdot \\boldsymbol{x}\n",
    "\\end{equation}\n",
    "sujeito a\n",
    "\\begin{equation}\n",
    "\\boldsymbol{A} \\boldsymbol{x} \\leq \\boldsymbol{b},\\  \\forall i : x_i \\geq 0\n",
    "\\end{equation}\n",
    "sendo que $\\boldsymbol{x} = [x_1, x_2, ..., x_n]$ são as variáveis do problema, $\\boldsymbol{f} = [c_1, c_2, ..., c_n]$ são os coeficientes da função objetivo, $\\boldsymbol{A}$ é uma matriz $m \\times n$ e $\\boldsymbol{b} = [b_1, b_2, ..., b_m]$ com $b_j \\geq 0$.\n",
    "\n",
    "Para determinar o problema, é necessário definir os coeficientes da função objetivo ($\\boldsymbol{f}$) as matrizes de igualdade ($\\boldsymbol{A_{eq}}$), desigualdade ($\\boldsymbol{A}$), os vetores de igualdade ($\\boldsymbol{b_{eq}}$) e desigualdade ($\\boldsymbol{b}$). Uma vez determinados, o método Simplex será utilizado para encontrar os coeficientes da função objetivo $\\boldsymbol{f}(\\boldsymbol{x})$.\n",
    "\n",
    "No caso do abastecimento, em específico, as matrizes de igualdade é dada pela demanda, as matrizes de desigualdade, pela oferta. A função objetivo descreve a relação município/manancial e a distância $\\boldsymbol{x}$ será minimizada.\n",
    "\n",
    "\n",
    "Para determinar o problema, é necessário definir os coeficientes da função objetivo ($f$) as matrizes de igualdade ($A_{eq}$), desigualdade ($A$), os vetores de igualdade ($b_{eq}$) e desigualdade ($b$),"
   ]
  },
  {
   "cell_type": "code",
   "execution_count": 1,
   "metadata": {},
   "outputs": [],
   "source": [
    "# Inclua as bibliotecas para ler Excel e Programação Linear\n",
    "library(readxl)\n",
    "distancias <- read_excel(\"./distancias.xlsx\")                                                  \n",
    "oferta <- read_excel(\"./oferta.xlsx\")                                                      \n",
    "demanda <- read_excel(\"./demanda.xlsx\")"
   ]
  },
  {
   "cell_type": "code",
   "execution_count": null,
   "metadata": {},
   "outputs": [],
   "source": [
    "# Precisamos alocar as matrizes com os tamanhos da oferta e demanda\n",
    "n_ofer <- nrow(oferta)\n",
    "n_dema <- nrow(demanda)"
   ]
  },
  {
   "cell_type": "markdown",
   "metadata": {},
   "source": [
    "Agora vamos construir as matrizes do problema. A primeira matriz será a da função $f(x)$, que consiste nos coeficientes da função linear $f x$, $f = [c_1 c_2 ... c_n]$ e $x = [x_1 x_2 ... x_n]$"
   ]
  },
  {
   "cell_type": "code",
   "execution_count": null,
   "metadata": {},
   "outputs": [],
   "source": [
    "# A função f é uma matriz de uma linha e n_oferta * n_demanda colunas\n",
    "funcao_f <- matrix(nrow = 1 , ncol =  n_ofer*n_dema)\n",
    "for (i in 1:n_dema){\n",
    "  for (j in 1:n_ofer){\n",
    "    funcao_f[(j+(i-1)*n_ofer)] <- distancias[i,j]*demanda[i,1]\n",
    "  }\n",
    "}\n",
    "funcao_f[is.na(funcao_f)] <- 0 # quando nan (Not A Number), substituir por zero\n",
    "obj <- funcao_f # Definimos a função objetivo como f"
   ]
  },
  {
   "cell_type": "markdown",
   "metadata": {},
   "source": [
    "Agora vamos montar a matriz $\\boldsymbol{A}$ que relaciona a desigualdade $\\boldsymbol{A} \\boldsymbol{x} \\lt \\boldsymbol{b}$, em que $b$ é o vetor que indica a oferta dos mananciais."
   ]
  },
  {
   "cell_type": "code",
   "execution_count": null,
   "metadata": {},
   "outputs": [],
   "source": [
    "funcao_A <- matrix(nrow = n_ofer, ncol = n_dema*n_ofer)\n",
    "for (i in 1:n_ofer){\n",
    "  for (j in 1:n_dema){        \n",
    "      # Cada linha recebe os valores da demanda\n",
    "    funcao_A[i,i+(j-1)*n_ofer] <- as.matrix(demanda[j,1]) \n",
    "  }\n",
    "}\n",
    "funcao_A[is.na(funcao_A)] <- 0"
   ]
  },
  {
   "cell_type": "markdown",
   "metadata": {},
   "source": [
    "As restrições do problema são descritas por valores que devem ser iguais a demanda, isto é, os municípios devem receber a totalidade de sua demanda de água (de um único manancial), e nunca menos que sua demanda. E valores que podem ser iguais ou menores, aqueles da oferta dos mananciais, que podem oferecer uma quantidade de água determinada e não mais, mas não existe necessidade de utilizar toda a oferta de cada manancial. Dessa forma, serão construídas duas matrizes $\\boldsymbol{A}$, que relaciona a oferta de cada manancial para cada município, e a matriz $\\boldsymbol{A_{eq}}$, que relaciona a oferta e a demanda de cada município."
   ]
  },
  {
   "cell_type": "code",
   "execution_count": null,
   "metadata": {},
   "outputs": [],
   "source": [
    "funcao_Aeq <- matrix(nrow = n_dema, ncol = n_dema*n_ofer)\n",
    "for (i in 1:n_demanda){\n",
    "    for (j in 1:n_oferta){\n",
    "        # A função Aeq será sempre um ou zero\n",
    "        funcao_Aeq[i,j+(i-1)*n_oferta] <- 1 \n",
    "    }\n",
    "}\n",
    "funcao_Aeq[is.na(funcao_Aeq)] <- 0\n",
    "#depois disso, juntar com A\n",
    "funcao_A_Aeq <- rbind(funcao_A, funcao_Aeq) # Junta-se as duas matriz de igualdade e desigualdade\n",
    "mat <- funcao_A_Aeq"
   ]
  },
  {
   "cell_type": "markdown",
   "metadata": {},
   "source": [
    "Agora vamos montar o vetor $\\boldsymbol{b}$, que recebe a oferta correspondente as municípios descritos por $\\boldsymbol{A}$:"
   ]
  },
  {
   "cell_type": "code",
   "execution_count": null,
   "metadata": {},
   "outputs": [],
   "source": [
    "funcao_b <- matrix(nrow = 36, ncol = 1)\n",
    "funcao_b <- oferta\n",
    "funcao_b_final <- t(funcao_b)\n",
    "funcao_b_final[is.na(funcao_b_final)] <- 0"
   ]
  },
  {
   "cell_type": "markdown",
   "metadata": {},
   "source": [
    "O vetor $\\boldsymbol{b_{eq}}$ é sempre igual a um ou zero e é do tamanho da demanda. Ele define quanto cada município deve receber de água de cada manancial para garantir que receba não menos que sua demanda."
   ]
  },
  {
   "cell_type": "code",
   "execution_count": null,
   "metadata": {},
   "outputs": [],
   "source": [
    "funcao_beq <- matrix(nrow = n_dema, ncol = 1)\n",
    "for (i in 1:n_demanda){\n",
    "    funcao_beq[i,1] <- 1\n",
    "}\n",
    "funcao_beq_final <- t(funcao_beq)\n",
    "funcao_beq_final[is.na(funcao_beq_final)] <- 0\n",
    "\n",
    "#depois disso, juntar com beq\n",
    "funcao_b_beq <- cbind(funcao_b_final, funcao_beq_final)\n",
    "rhs <- funcao_b_beq"
   ]
  },
  {
   "cell_type": "markdown",
   "metadata": {},
   "source": []
  },
  {
   "cell_type": "code",
   "execution_count": null,
   "metadata": {},
   "outputs": [],
   "source": [
    "# Lower bound, limite inferior de zero e upper bound, limite superior igual a um\n",
    "funcao_lb <- matrix(nrow = 1, ncol = n_dema*n_ofer) #matriz em linha só de zeros \n",
    "for (i in 1:n_oferta*n_demanda){\n",
    "    funcao_lb[i] <- 0\n",
    "}                                        #funcao_lb_final <- t(funcao_lb)\n",
    "funcao_lb[is.na(funcao_lb)] <- 0\n",
    "\n",
    "funcao_ub <- matrix(nrow = 1, ncol = n_dema*n_ofer) #matriz em linha com numeros quaisquer\n",
    "for (i in 1:n_oferta*n_demanda){\n",
    "    funcao_ub[i] <- 1\n",
    "}\n",
    "#depois disso, transpor\n",
    "#funcao_ub_final <- t(funcao_ub)\n",
    "funcao_ub[is.na(funcao_ub)] <- 1\n",
    "bounds <- list(lower = funcao_lb, upper = funcao_ub )"
   ]
  },
  {
   "cell_type": "markdown",
   "metadata": {},
   "source": [
    "Enfim, é necessrio definir quais valores da matriz $\\boldsymbol{A}$ são de igualdade e desigualdade. Os primeiros 36 valores, ou número de oferta valores, são de desigualdade, os 4599, ou número de demanda valores são de igualdade."
   ]
  },
  {
   "cell_type": "code",
   "execution_count": null,
   "metadata": {},
   "outputs": [],
   "source": [
    "dir <- c(rep('<=', n_ofer),rep('==', n_dema))"
   ]
  },
  {
   "cell_type": "markdown",
   "metadata": {},
   "source": [
    "O resultado da otimização é salvo em um objeto chamado $solution$. Agora é possível verificar a eficiência em comparação com a distribuição realizada no período estudado."
   ]
  },
  {
   "cell_type": "code",
   "execution_count": 1,
   "metadata": {},
   "outputs": [
    {
     "ename": "ERROR",
     "evalue": "Error in library(Rglpk): there is no package called ‘Rglpk’\n",
     "output_type": "error",
     "traceback": [
      "Error in library(Rglpk): there is no package called ‘Rglpk’\nTraceback:\n",
      "1. library(Rglpk)",
      "2. stop(txt, domain = NA)"
     ]
    }
   ],
   "source": [
    "library(Rglpk)\n",
    "solution <- Rglpk_solve_LP(obj, mat, dir, rhs, bounds , max = FALSE)"
   ]
  },
  {
   "cell_type": "code",
   "execution_count": null,
   "metadata": {},
   "outputs": [],
   "source": []
  },
  {
   "cell_type": "code",
   "execution_count": null,
   "metadata": {},
   "outputs": [],
   "source": []
  },
  {
   "cell_type": "code",
   "execution_count": null,
   "metadata": {},
   "outputs": [],
   "source": []
  },
  {
   "cell_type": "code",
   "execution_count": null,
   "metadata": {},
   "outputs": [],
   "source": []
  }
 ],
 "metadata": {
  "kernelspec": {
   "display_name": "R",
   "language": "R",
   "name": "ir"
  },
  "language_info": {
   "codemirror_mode": "r",
   "file_extension": ".r",
   "mimetype": "text/x-r-source",
   "name": "R",
   "pygments_lexer": "r",
   "version": "3.5.1"
  }
 },
 "nbformat": 4,
 "nbformat_minor": 2
}
